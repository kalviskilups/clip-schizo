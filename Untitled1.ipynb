{
 "cells": [
  {
   "cell_type": "code",
   "execution_count": 93,
   "metadata": {},
   "outputs": [],
   "source": [
    "def not_cursed(ls):\n",
    "    total = 0\n",
    "    carries = 0\n",
    "    tmp2 = 0\n",
    "    for i in range(3):\n",
    "        ls_new = []\n",
    "        for idx, num in enumerate(ls):\n",
    "            tmp2 = (total & carries) << 1\n",
    "            total = total ^ carries\n",
    "            tmp = (tmp2 & num) << 1\n",
    "            carries = tmp2 ^ num\n",
    "            ls_new.append(tmp)\n",
    "        ls = ls_new\n",
    "        \n",
    "    return total"
   ]
  },
  {
   "cell_type": "code",
   "execution_count": 94,
   "metadata": {},
   "outputs": [
    {
     "data": {
      "text/plain": [
       "135"
      ]
     },
     "execution_count": 94,
     "metadata": {},
     "output_type": "execute_result"
    }
   ],
   "source": [
    "not_cursed([2, 3, 15, 6, 3, 5, 7, 31, 63])"
   ]
  },
  {
   "cell_type": "code",
   "execution_count": null,
   "metadata": {},
   "outputs": [],
   "source": []
  }
 ],
 "metadata": {
  "kernelspec": {
   "display_name": "Python 3",
   "language": "python",
   "name": "python3"
  },
  "language_info": {
   "codemirror_mode": {
    "name": "ipython",
    "version": 3
   },
   "file_extension": ".py",
   "mimetype": "text/x-python",
   "name": "python",
   "nbconvert_exporter": "python",
   "pygments_lexer": "ipython3",
   "version": "3.8.10"
  }
 },
 "nbformat": 4,
 "nbformat_minor": 2
}
