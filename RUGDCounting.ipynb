{
 "cells": [
  {
   "cell_type": "code",
   "execution_count": 2,
   "metadata": {},
   "outputs": [],
   "source": [
    "import immaskdataset"
   ]
  },
  {
   "cell_type": "code",
   "execution_count": 3,
   "metadata": {},
   "outputs": [],
   "source": [
    "ds = immaskdataset.RUGDDataset()"
   ]
  },
  {
   "cell_type": "code",
   "execution_count": 5,
   "metadata": {},
   "outputs": [],
   "source": [
    "import numpy as np\n",
    "amounts = np.zeros([25])"
   ]
  },
  {
   "cell_type": "code",
   "execution_count": 6,
   "metadata": {},
   "outputs": [
    {
     "name": "stdout",
     "output_type": "stream",
     "text": [
      "0\n",
      "100\n",
      "200\n",
      "300\n",
      "400\n",
      "500\n",
      "600\n",
      "700\n",
      "800\n",
      "900\n",
      "1000\n",
      "1100\n",
      "1200\n",
      "1300\n",
      "1400\n",
      "1500\n",
      "1600\n",
      "1700\n",
      "1800\n",
      "1900\n",
      "2000\n",
      "2100\n",
      "2200\n",
      "2300\n",
      "2400\n",
      "2500\n",
      "2600\n",
      "2700\n",
      "2800\n",
      "2900\n",
      "3000\n",
      "3100\n",
      "3200\n",
      "3300\n",
      "3400\n",
      "3500\n",
      "3600\n",
      "3700\n",
      "3800\n",
      "3900\n",
      "4000\n",
      "4100\n",
      "4200\n",
      "4300\n",
      "4400\n",
      "4500\n",
      "4600\n",
      "4700\n",
      "4800\n",
      "4900\n",
      "5000\n",
      "5100\n",
      "5200\n",
      "5300\n",
      "5400\n",
      "5500\n",
      "5600\n",
      "5700\n",
      "5800\n",
      "5900\n",
      "6000\n",
      "6100\n",
      "6200\n",
      "6300\n",
      "6400\n",
      "6500\n",
      "6600\n",
      "6700\n",
      "6800\n",
      "6900\n",
      "7000\n",
      "7100\n",
      "7200\n",
      "7300\n",
      "7400\n"
     ]
    }
   ],
   "source": [
    "for i in range(ds.sample_count):\n",
    "    image, mask = ds.get_next()\n",
    "    amounts+= mask.sum(axis = 1).sum(axis = 1)\n",
    "    if i % 100 == 0:\n",
    "        print(i)"
   ]
  },
  {
   "cell_type": "code",
   "execution_count": 7,
   "metadata": {},
   "outputs": [
    {
     "data": {
      "text/plain": [
       "array([6.36426000e+05, 4.94275600e+06, 4.60670100e+06, 6.37394675e+08,\n",
       "       1.09020190e+09, 2.89590400e+06, 8.89091400e+06, 2.17901878e+08,\n",
       "       1.74359760e+07, 3.01069400e+06, 3.98521860e+07, 1.94697257e+08,\n",
       "       4.02915920e+07, 2.96814876e+08, 5.91795580e+07, 1.74384900e+07,\n",
       "       1.31245000e+05, 2.21095000e+05, 2.02708800e+07, 1.30107498e+08,\n",
       "       2.03393000e+05, 3.09700000e+06, 4.63414400e+06, 1.66356550e+07,\n",
       "       2.28970700e+06])"
      ]
     },
     "execution_count": 7,
     "metadata": {},
     "output_type": "execute_result"
    }
   ],
   "source": [
    "amounts"
   ]
  },
  {
   "cell_type": "code",
   "execution_count": 9,
   "metadata": {},
   "outputs": [],
   "source": [
    "normed = amounts / amounts.sum()"
   ]
  },
  {
   "cell_type": "code",
   "execution_count": 15,
   "metadata": {},
   "outputs": [],
   "source": [
    "normedl = [i for i in normed]"
   ]
  },
  {
   "cell_type": "code",
   "execution_count": 20,
   "metadata": {},
   "outputs": [
    {
     "name": "stdout",
     "output_type": "stream",
     "text": [
      "void \n",
      " 0.02261816692008593\n",
      "\n",
      "dirt \n",
      " 0.17566233977439052\n",
      "\n",
      "sand \n",
      " 0.16371916321603264\n",
      "\n",
      "grass \n",
      " 22.652593000794944\n",
      "\n",
      "tree \n",
      " 38.74506784888555\n",
      "\n",
      "pole \n",
      " 0.10291854835683101\n",
      "\n",
      "water \n",
      " 0.3159773122470309\n",
      "\n",
      "sky \n",
      " 7.744091298602195\n",
      "\n",
      "vehicle \n",
      " 0.6196632689151798\n",
      "\n",
      "container/generic-object \n",
      " 0.10699811044379266\n",
      "\n",
      "asphalt \n",
      " 1.4163208213968501\n",
      "\n",
      "gravel \n",
      " 6.919414130957674\n",
      "\n",
      "building \n",
      " 1.4319370254075083\n",
      "\n",
      "mulch \n",
      " 10.548608023136403\n",
      "\n",
      "rock-bed \n",
      " 2.1032030763999376\n",
      "\n",
      "log \n",
      " 0.61975261484328\n",
      "\n",
      "bicycle \n",
      " 0.004664362105612716\n",
      "\n",
      "person \n",
      " 0.007857572781747445\n",
      "\n",
      "fence \n",
      " 0.720413916868625\n",
      "\n",
      "bush \n",
      " 4.623936022913499\n",
      "\n",
      "sign \n",
      " 0.007228455192555046\n",
      "\n",
      "rock \n",
      " 0.11006536966042577\n",
      "\n",
      "bridge \n",
      " 0.16469446962210013\n",
      "\n",
      "concrete \n",
      " 0.5912203800834066\n",
      "\n",
      "picnic-table \n",
      " 0.08137470047435083\n",
      "\n"
     ]
    }
   ],
   "source": [
    "for i in range(25):\n",
    "    print(ds.labels[i], '\\n', normedl[i] * 100)\n",
    "    print()"
   ]
  },
  {
   "cell_type": "code",
   "execution_count": 35,
   "metadata": {},
   "outputs": [],
   "source": [
    "mathemagiced = 1 / normed"
   ]
  },
  {
   "cell_type": "code",
   "execution_count": 36,
   "metadata": {},
   "outputs": [],
   "source": [
    "mathemagiced_normed = mathemagiced / (normed * mathemagiced).sum()"
   ]
  },
  {
   "cell_type": "code",
   "execution_count": 37,
   "metadata": {},
   "outputs": [
    {
     "data": {
      "text/plain": [
       "[176.84899108458802,\n",
       " 22.770959359515217,\n",
       " 24.432081873774745,\n",
       " 0.17658022637230222,\n",
       " 0.10323894684094753,\n",
       " 38.86568615534216,\n",
       " 12.659136732173993,\n",
       " 0.5165228360262227,\n",
       " 6.455118772817765,\n",
       " 37.383837746380074,\n",
       " 2.8242188772279646,\n",
       " 0.5780836244652384,\n",
       " 2.793418934650187,\n",
       " 0.3791969510315244,\n",
       " 1.9018610446532904,\n",
       " 6.454188177990181,\n",
       " 857.5663530039241,\n",
       " 509.06305434315567,\n",
       " 5.5523635875699515,\n",
       " 0.8650638720298811,\n",
       " 553.3685820062638,\n",
       " 36.342039392960935,\n",
       " 24.287397197842797,\n",
       " 6.765666635909437,\n",
       " 49.155326860598315]"
      ]
     },
     "execution_count": 37,
     "metadata": {},
     "output_type": "execute_result"
    }
   ],
   "source": [
    "[i for i in mathemagiced_normed]"
   ]
  },
  {
   "cell_type": "code",
   "execution_count": null,
   "metadata": {},
   "outputs": [],
   "source": []
  }
 ],
 "metadata": {
  "kernelspec": {
   "display_name": "Python 3",
   "language": "python",
   "name": "python3"
  },
  "language_info": {
   "codemirror_mode": {
    "name": "ipython",
    "version": 3
   },
   "file_extension": ".py",
   "mimetype": "text/x-python",
   "name": "python",
   "nbconvert_exporter": "python",
   "pygments_lexer": "ipython3",
   "version": "3.8.10"
  }
 },
 "nbformat": 4,
 "nbformat_minor": 2
}
