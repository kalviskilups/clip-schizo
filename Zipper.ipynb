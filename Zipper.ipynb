{
 "cells": [
  {
   "cell_type": "code",
   "execution_count": 2,
   "metadata": {},
   "outputs": [],
   "source": [
    "import os\n",
    "import zipfile\n",
    "\n",
    "def zip_folder(folder_path, zip_path):\n",
    "    \"\"\"\n",
    "    Args:\n",
    "        folder_path (str): The path of the folder to be zipped.\n",
    "        zip_path (str): The path where the zip file will be created.\n",
    "    \"\"\"\n",
    "    \n",
    "    # Initialize Zip File\n",
    "    zipf = zipfile.ZipFile(zip_path, 'w', zipfile.ZIP_DEFLATED)\n",
    "    \n",
    "    # Zip the folder\n",
    "    for root, dirs, files in os.walk(folder_path):\n",
    "        for file in files:\n",
    "            # Create a relative path for files inside the folder\n",
    "            rel_path = os.path.relpath(os.path.join(root, file), os.path.join(folder_path, '..'))\n",
    "            \n",
    "            # Add file to the zip file\n",
    "            zipf.write(os.path.join(root, file), rel_path)\n",
    "            \n",
    "    # Close Zip File\n",
    "    zipf.close()\n",
    "\n",
    "# Example Usage\n",
    "if __name__ == \"__main__\":\n",
    "    folder_path = \"Plots\"  # Replace with the folder you want to zip\n",
    "    zip_path = \"PlotsRUGD.zip\"  # Replace with the desired output zip file name\n",
    "    zip_folder(folder_path, zip_path)\n"
   ]
  },
  {
   "cell_type": "code",
   "execution_count": null,
   "metadata": {},
   "outputs": [],
   "source": []
  }
 ],
 "metadata": {
  "kernelspec": {
   "display_name": "Python 3",
   "language": "python",
   "name": "python3"
  },
  "language_info": {
   "codemirror_mode": {
    "name": "ipython",
    "version": 3
   },
   "file_extension": ".py",
   "mimetype": "text/x-python",
   "name": "python",
   "nbconvert_exporter": "python",
   "pygments_lexer": "ipython3",
   "version": "3.8.10"
  }
 },
 "nbformat": 4,
 "nbformat_minor": 2
}
