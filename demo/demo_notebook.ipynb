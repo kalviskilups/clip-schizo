{
 "cells": [
  {
   "cell_type": "markdown",
   "metadata": {},
   "source": [
    "## Welcome to the local demo notebook!"
   ]
  },
  {
   "cell_type": "markdown",
   "metadata": {},
   "source": [
    "### Start by installing the dependencies"
   ]
  },
  {
   "cell_type": "code",
   "execution_count": null,
   "metadata": {},
   "outputs": [],
   "source": [
    "%cd ..\n",
    "%pip install -r requirements.txt\n",
    "%cd demo"
   ]
  },
  {
   "cell_type": "markdown",
   "metadata": {},
   "source": [
    "### Import necessary modules"
   ]
  },
  {
   "cell_type": "code",
   "execution_count": null,
   "metadata": {},
   "outputs": [],
   "source": [
    "import os\n",
    "import sys\n",
    "import torch\n",
    "sys.path.append('..')\n",
    "from src import defdevice\n",
    "\n",
    "# If you have a cuda device, specify in the force_device function\n",
    "if torch.cuda.is_available():\n",
    "    defdevice.force_device('cuda:0')\n",
    "else:\n",
    "    defdevice.force_cpu('cpu')\n",
    "\n",
    "from src import nns\n",
    "from src import embedders\n",
    "from src import segmodel\n",
    "from demo.demo_functions import run_image, run_video"
   ]
  },
  {
   "cell_type": "markdown",
   "metadata": {},
   "source": [
    "#### Initialize the model and the embedders"
   ]
  },
  {
   "cell_type": "code",
   "execution_count": null,
   "metadata": {},
   "outputs": [],
   "source": [
    "image_embr = embedders.M2FImageEmbedder()\n",
    "text_embr = embedders.CLIPTextEmbedder()\n",
    "model = nns.Linear(1, 1)"
   ]
  },
  {
   "cell_type": "markdown",
   "metadata": {},
   "source": [
    "### Load the model and test it out"
   ]
  },
  {
   "cell_type": "code",
   "execution_count": null,
   "metadata": {},
   "outputs": [],
   "source": [
    "model.load(\"../weights/CSRUGDFineTuned\") # Specify the weights you want to load\n",
    "smodel = segmodel.CSModel(image_embr, text_embr, model)\n",
    "\n",
    "file_list = ['../FP/fp01.jpeg'] # Images to run the model on.\n",
    "labels = ['void,sky,sign',\n",
    "          'concrete,asphalt',\n",
    "          'gravel,grass,dirt,sand,mulch',\n",
    "          'rock,rock-bed',\n",
    "          'water',\n",
    "          'tree,pole,vehicle,container/generic-object,building,log,bicycle,person,fence,bush,picnic-table,bridge'] # Labels to look for.\n",
    "\n",
    "labels = [st.split(',') for st in labels]\n",
    "\n",
    "rough_labels = ['background', 'smooth terrain', 'rough terrain', 'bumpy terrain', 'forbidden terrain', 'obstacle']\n",
    "\n",
    "for path in file_list:\n",
    "    run_image(smodel, path, labels, multilabel = True, aggregation = 'max', rough_labels = rough_labels)"
   ]
  },
  {
   "cell_type": "markdown",
   "metadata": {},
   "source": [
    "### Test without the rough labels"
   ]
  },
  {
   "cell_type": "code",
   "execution_count": null,
   "metadata": {},
   "outputs": [],
   "source": [
    "model.load(\"../weights/CSRUGDFineTuned\") # Specify the weights you want to load\n",
    "smodel = segmodel.CSModel(image_embr, text_embr, model)\n",
    "\n",
    "file_list = ['../FP/fp01.jpeg'] #Images to run the model on.\n",
    "labels = ['dirt road', 'tree', 'sky', 'fence' 'other'] # Labels to look for.\n",
    "\n",
    "for path in file_list:\n",
    "    run_image(smodel, path, labels)"
   ]
  },
  {
   "cell_type": "markdown",
   "metadata": {},
   "source": [
    "### Test a different model"
   ]
  },
  {
   "cell_type": "code",
   "execution_count": null,
   "metadata": {},
   "outputs": [],
   "source": [
    "model.load(\"../weights/CSTableModel\") # Specify the weights you want to load\n",
    "smodel = segmodel.CSModel(image_embr, text_embr, model)\n",
    "\n",
    "file_list = ['../FP/fp01.jpeg'] # Images to run the model on.\n",
    "labels = ['dirt road, path, ground', 'moss, grass', 'trees', 'bike', 'helmet', 'other'] # Labels to look for.\n",
    "\n",
    "for path in file_list:\n",
    "    run_image(smodel, path, labels)"
   ]
  },
  {
   "cell_type": "markdown",
   "metadata": {},
   "source": [
    "### Test out video"
   ]
  },
  {
   "cell_type": "code",
   "execution_count": null,
   "metadata": {},
   "outputs": [],
   "source": [
    "model.load(\"../weights/CSTableModel\") # Specify the weights you want to load\n",
    "smodel = segmodel.CSModel(image_embr, text_embr, model)\n",
    "\n",
    "labels = [ 'Mountain', 'Grass', 'Moss', 'Rock', 'Other'] # Labels to look for.\n",
    "\n",
    "path = '../FP/Vid1.mp4' # Video path.\n",
    "width, height = (468, 256)\n",
    "output_path = '../FP/generated_video.mp4'\n",
    "fps = 30\n",
    "frame_count = 50000 # Maximum amount of frames to segment.\n",
    "frame_average = 5 # How many frames to average segmentation over.\n",
    "draw_period = 300 # How frequently to output example segmentations.\n",
    "\n",
    "run_video(path, smodel, labels, width, height, output_path, fps, frame_count, frame_average, draw_period, web = False)"
   ]
  }
 ],
 "metadata": {
  "kernelspec": {
   "display_name": "Python 3",
   "language": "python",
   "name": "python3"
  },
  "language_info": {
   "codemirror_mode": {
    "name": "ipython",
    "version": 3
   },
   "file_extension": ".py",
   "mimetype": "text/x-python",
   "name": "python",
   "nbconvert_exporter": "python",
   "pygments_lexer": "ipython3",
   "version": "3.11.3"
  }
 },
 "nbformat": 4,
 "nbformat_minor": 2
}
