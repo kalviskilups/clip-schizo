{
 "cells": [
  {
   "cell_type": "code",
   "execution_count": 7,
   "metadata": {},
   "outputs": [
    {
     "name": "stdout",
     "output_type": "stream",
     "text": [
      "tensor(2.7000, grad_fn=<SumBackward0>)\n"
     ]
    }
   ],
   "source": [
    "import torch\n",
    "\n",
    "def custom_scatter(index_tensor, value_tensor, n):\n",
    "    result = torch.zeros(n)\n",
    "    result.scatter_add_(0, index_tensor, value_tensor)\n",
    "    return result\n",
    "\n",
    "index_tensor = torch.tensor([1, 3, 4, 3])\n",
    "value_tensor = torch.tensor([0.5, 1.0, 0.2, 1.0], requires_grad = True)\n",
    "n = 5\n",
    "\n",
    "result = custom_scatter(index_tensor, value_tensor, n).sum()\n",
    "print(result)"
   ]
  },
  {
   "cell_type": "code",
   "execution_count": 6,
   "metadata": {},
   "outputs": [
    {
     "data": {
      "text/plain": [
       "tensor([1., 1., 1., 1.])"
      ]
     },
     "execution_count": 6,
     "metadata": {},
     "output_type": "execute_result"
    }
   ],
   "source": []
  },
  {
   "cell_type": "markdown",
   "metadata": {},
   "source": [
    "# Petries"
   ]
  },
  {
   "cell_type": "code",
   "execution_count": 90,
   "metadata": {},
   "outputs": [],
   "source": [
    "class Ark():\n",
    "    def __init__(s, size):\n",
    "        s.size = size\n",
    "    \n",
    "    def __str__(s):\n",
    "        return \"Ark: \" + str(s.size)\n",
    "    \n",
    "    def __repr__(s):\n",
    "        return str(s)\n",
    "\n",
    "class PetriNet():\n",
    "    def __init__(s):\n",
    "        s.places = set()\n",
    "        s.transitions = set()\n",
    "        s.p_inputs = {} #dict of set\n",
    "        s.p_outputs = {} #dict of set\n",
    "        s.t_inputs = {} #dict of set\n",
    "        s.t_outputs = {} #dict of set\n",
    "        s.arks = []\n",
    "    \n",
    "    def inputs(s, name):\n",
    "        if name in s.places:\n",
    "            return s.p_inputs[name]\n",
    "        elif name in s.transitions:\n",
    "            return s.t_inputs[name]\n",
    "        else:\n",
    "            raise ValueError()\n",
    "        \n",
    "    def outputs(s, name):\n",
    "        if name in s.places:\n",
    "            return s.p_outputs[name]\n",
    "        elif name in s.transitions:\n",
    "            return s.t_outputs[name]\n",
    "        else:\n",
    "            raise ValueError()\n",
    "    \n",
    "    def add_place(s, name):\n",
    "        if name in s.places:\n",
    "            raise ValueError(\"Making new place. Name \" + name + \" already in places\")\n",
    "        elif name in s.transitions:\n",
    "            raise ValueError(\"Making new place. Name \" + name + \" already in transitions\")\n",
    "        else:\n",
    "            s.places.add(name)\n",
    "            s.p_inputs[name] = set()\n",
    "            s.p_outputs[name] = set()\n",
    "    \n",
    "    def add_transition(s, name):\n",
    "        if name in s.places:\n",
    "            raise ValueError(\"Making new transition. Name \" + name + \" already in places\")\n",
    "        elif name in s.transitions:\n",
    "            raise ValueError(\"Making new transition. Name \" + name + \" already in transitions\")\n",
    "        else:\n",
    "            s.transitions.add(name)\n",
    "            s.t_inputs[name] = set()\n",
    "            s.t_outputs[name] = set()\n",
    "    \n",
    "    def node_type(s, name):\n",
    "        if name in s.places:\n",
    "            return 'place'\n",
    "        elif name in s.transitions:\n",
    "            return 'trans'\n",
    "        else:\n",
    "            return 'none'\n",
    "    \n",
    "    def add_ark(s, name1, name2, size = 1):\n",
    "        type1 = s.node_type(name1)\n",
    "        type2 = s.node_type(name2)\n",
    "        \n",
    "        if type1 == 'place' and type2 == 'trans':\n",
    "            s.arks.append(Ark(size))\n",
    "            idx = len(s.arks) - 1\n",
    "            s.p_outputs[name1].add(idx)\n",
    "            s.t_inputs[name2].add(idx)\n",
    "        elif type1 == 'trans' and type2 == 'place':\n",
    "            s.arks.append(Ark(size))\n",
    "            idx = len(s.arks) - 1\n",
    "            s.t_outputs[name1].add(idx)\n",
    "            s.p_inputs[name2].add(idx)\n",
    "        else:\n",
    "            raise ValueError(\"Trying to make ark with invalid types \" + name1 + \" \" + type1 + \" -> \" + name2 + \" \" + type2)\n",
    "    \n",
    "    def seek_ark(s, idx):\n",
    "        inname = 'none'\n",
    "        outname = 'none'\n",
    "        for p in s.places:\n",
    "            if idx in s.p_outputs[p]:\n",
    "                inname = p\n",
    "                break\n",
    "            if idx in s.p_inputs[p]:\n",
    "                outname = p\n",
    "                break\n",
    "        for t in s.transitions:\n",
    "            if idx in s.t_outputs[t]:\n",
    "                inname = t\n",
    "                break\n",
    "            if idx in s.t_inputs[t]:\n",
    "                outname = t\n",
    "                break\n",
    "        \n",
    "        return inname + ' -> ' + outname\n",
    "    \n",
    "    def dumb_print(s):\n",
    "        res = ''\n",
    "        res+= 'Places:\\n'\n",
    "        for p in s.places:\n",
    "            res+= p + '\\n'\n",
    "        res+= '\\n'\n",
    "        res+= 'Transitions:\\n'\n",
    "        for t in s.transitions:\n",
    "            res+= t + '\\n'\n",
    "        res+= '\\n'\n",
    "        res+= 'Arks: \\n'\n",
    "        for idx, ark in enumerate(s.arks):\n",
    "            res+= str(ark) + \" \" + s.seek_ark(idx) + '\\n'\n",
    "        return res\n",
    "    \n",
    "    def __str__(s):\n",
    "        return s.dumb_print()\n",
    "    \n",
    "    def __repr__(s):\n",
    "        return str(s)"
   ]
  },
  {
   "cell_type": "code",
   "execution_count": 97,
   "metadata": {},
   "outputs": [],
   "source": [
    "net = PetriNet()"
   ]
  },
  {
   "cell_type": "code",
   "execution_count": 98,
   "metadata": {},
   "outputs": [],
   "source": [
    "net.add_place('Copper Ore')\n",
    "net.add_place('Copper Plate')"
   ]
  },
  {
   "cell_type": "code",
   "execution_count": 99,
   "metadata": {},
   "outputs": [],
   "source": [
    "net.add_transition('Copper Furnace')"
   ]
  },
  {
   "cell_type": "code",
   "execution_count": 100,
   "metadata": {},
   "outputs": [],
   "source": [
    "net.add_ark('Copper Ore', 'Copper Furnace')\n",
    "net.add_ark('Copper Furnace', 'Copper Plate')"
   ]
  },
  {
   "cell_type": "code",
   "execution_count": 101,
   "metadata": {},
   "outputs": [
    {
     "data": {
      "text/plain": [
       "Places:\n",
       "Copper Plate\n",
       "Copper Ore\n",
       "\n",
       "Transitions:\n",
       "Copper Furnace\n",
       "\n",
       "Arks: \n",
       "Ark: 1 Copper Ore -> Copper Furnace\n",
       "Ark: 1 Copper Furnace -> Copper Plate"
      ]
     },
     "execution_count": 101,
     "metadata": {},
     "output_type": "execute_result"
    }
   ],
   "source": [
    "net"
   ]
  },
  {
   "cell_type": "code",
   "execution_count": null,
   "metadata": {},
   "outputs": [],
   "source": []
  },
  {
   "cell_type": "code",
   "execution_count": null,
   "metadata": {},
   "outputs": [],
   "source": []
  }
 ],
 "metadata": {
  "kernelspec": {
   "display_name": "Python 3",
   "language": "python",
   "name": "python3"
  },
  "language_info": {
   "codemirror_mode": {
    "name": "ipython",
    "version": 3
   },
   "file_extension": ".py",
   "mimetype": "text/x-python",
   "name": "python",
   "nbconvert_exporter": "python",
   "pygments_lexer": "ipython3",
   "version": "3.8.10"
  }
 },
 "nbformat": 4,
 "nbformat_minor": 2
}
